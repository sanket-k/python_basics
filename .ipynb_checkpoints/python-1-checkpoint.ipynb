{
 "cells": [
  {
   "cell_type": "code",
   "execution_count": 1,
   "metadata": {
    "collapsed": true
   },
   "outputs": [],
   "source": [
    "# Using markdown"
   ]
  },
  {
   "cell_type": "markdown",
   "metadata": {},
   "source": [
    "# heading ('# ==> for heading')\n",
    "## subheading ('## ==> for sub heading')\n",
    "### and so on...\n",
    "1. '1. 2. 3. 4. etc'\n",
    "2. new\n",
    "3. file"
   ]
  },
  {
   "cell_type": "markdown",
   "metadata": {
    "collapsed": true
   },
   "source": [
    "### using \"!\" makes it usable like in the terminal or the comand line\n",
    "### eg. \"!pip freeze\" ==> display all installed packeges\n",
    "### eg. \"!pip install numpy(package)\"  ==> installs packages"
   ]
  },
  {
   "cell_type": "code",
   "execution_count": 2,
   "metadata": {},
   "outputs": [
    {
     "name": "stdout",
     "output_type": "stream",
     "text": [
      "appdirs==1.4.3\n",
      "backports.weakref==1.0rc1\n",
      "bleach==1.5.0\n",
      "colorama==0.3.9\n",
      "cycler==0.10.0\n",
      "decorator==4.0.11\n",
      "entrypoints==0.2.3\n",
      "enum34==1.1.6\n",
      "html5lib==0.9999999\n",
      "ipykernel==4.6.1\n",
      "ipython==6.1.0\n",
      "ipython-genutils==0.2.0\n",
      "ipywidgets==6.0.0\n",
      "jedi==0.10.2\n",
      "Jinja2==2.9.6\n",
      "jsonschema==2.6.0\n",
      "jupyter==1.0.0\n",
      "jupyter-client==5.1.0\n",
      "jupyter-console==5.1.0\n",
      "jupyter-core==4.3.0\n",
      "Mako==1.0.6\n",
      "Markdown==2.2.0\n",
      "MarkupSafe==1.0\n",
      "matplotlib==2.0.2\n",
      "mistune==0.7.4\n",
      "nbconvert==5.2.1\n",
      "nbformat==4.3.0\n",
      "notebook==5.0.0\n",
      "numpy==1.13.0+mkl\n",
      "pandas==0.20.2\n",
      "pandocfilters==1.4.1\n",
      "pickleshare==0.7.4\n",
      "prettytensor==0.7.4\n",
      "prompt-toolkit==1.0.14\n",
      "protobuf==3.3.0\n",
      "py==1.4.34\n",
      "Pygments==2.2.0\n",
      "pyparsing==2.2.0\n",
      "pytest==3.1.2\n",
      "python-dateutil==2.6.0\n",
      "pytools==2017.3\n",
      "pytz==2017.2\n",
      "pyzmq==16.0.2\n",
      "qtconsole==4.3.0\n",
      "scipy==0.19.1\n",
      "seaborn==0.8.dev0\n",
      "simplegeneric==0.8.1\n",
      "six==1.10.0\n",
      "tensorflow==1.2.0\n",
      "tensorflow-gpu==1.2.0\n",
      "testpath==0.3.1\n",
      "tornado==4.5.1\n",
      "traitlets==4.3.2\n",
      "wcwidth==0.1.7\n",
      "Werkzeug==0.12.2\n",
      "widgetsnbextension==2.0.0\n",
      "win-unicode-console==0.5\n"
     ]
    }
   ],
   "source": [
    "!pip freeze"
   ]
  },
  {
   "cell_type": "code",
   "execution_count": null,
   "metadata": {
    "collapsed": true
   },
   "outputs": [],
   "source": []
  }
 ],
 "metadata": {
  "kernelspec": {
   "display_name": "Python 3",
   "language": "python",
   "name": "python3"
  },
  "language_info": {
   "codemirror_mode": {
    "name": "ipython",
    "version": 3
   },
   "file_extension": ".py",
   "mimetype": "text/x-python",
   "name": "python",
   "nbconvert_exporter": "python",
   "pygments_lexer": "ipython3",
   "version": "3.5.3"
  }
 },
 "nbformat": 4,
 "nbformat_minor": 2
}
