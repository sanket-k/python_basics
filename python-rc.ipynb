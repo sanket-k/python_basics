{
 "cells": [
  {
   "cell_type": "code",
   "execution_count": 1,
   "metadata": {},
   "outputs": [
    {
     "name": "stdout",
     "output_type": "stream",
     "text": [
      "22\n",
      "\n",
      "hello world !!!\n",
      "\n",
      "Force\n",
      "\n",
      "The force\n",
      "\n",
      "they're gone\n",
      "they're gone\n",
      "\n",
      "10 ton\n",
      "9\n",
      "8.3\n",
      "\n",
      "\n",
      "66  = placeholder\n",
      "\n",
      "this is a string  = placeholder_2\n"
     ]
    }
   ],
   "source": [
    "# getting started with python \n",
    "\n",
    "# printing a variable \n",
    "print(22)                                      # changes made from python 2 to python 3 (use '()' to print)\n",
    "\n",
    "# printing a string\n",
    "print('\\nhello world !!!')                     # prints a string '\\n' adds a new line before printing\n",
    "\n",
    "# syntax\n",
    "print('\\nForce')                               # print function can used with '' to include the content\n",
    "print(\"\\nThe force\")                           # print function can also be used with \"\" to include the content \n",
    "\n",
    "# using \"'s\"\n",
    "print('\\nthey\\'re gone')                       # gives an error,hence use '\\','\\' iigoners the variable in front of it\n",
    "print(\"they're gone\\n\")                        # use \"'\" to avoid errors\n",
    "\n",
    "# using two different data types\n",
    "print(str(10)+' ton')                          # concatenate two different data types by conversion, by converting 10 into a string            \n",
    "\n",
    "print(int('5') + 4)                            # converts a string into a variable\n",
    "\n",
    "print(float('5.3')+3)                          # gets converted into a float variable\n",
    "\n",
    "# variables\n",
    "print('\\n')                                    # add an extra line b/w display lines  \n",
    "variable_holder = 22 + 44                      # holds the value of 22 + 44\n",
    "print(variable_holder,' = placeholder\\n')      # prints the held variable (22 + 44) \n",
    "\n",
    "variable_holder_2 = \"this is a string\"         # now variable_holder_2 holds the value of a string\n",
    "print(variable_holder_2,' = placeholder_2')    # displays the held/current variable in variable_holder_2"
   ]
  },
  {
   "cell_type": "code",
   "execution_count": 2,
   "metadata": {
    "scrolled": true
   },
   "outputs": [
    {
     "name": "stdout",
     "output_type": "stream",
     "text": [
      "addition =  6\n",
      "subtraction =  7\n",
      "multiply = 9\n",
      "divison =  2.0\n",
      "power =  256\n"
     ]
    }
   ],
   "source": [
    "# math operations\n",
    "\n",
    "add = 1 + 5                       # add variables\n",
    "sub = 8 - 1                       # subtract variables\n",
    "mul = 3 * 3                       # multiply variables\n",
    "div = 4 / 2                       # divide variables\n",
    "pow1 = 4 ** 4                     # variable to the power of x^x\n",
    "\n",
    "print('addition = ',add)          # display addition\n",
    "print('subtraction = ',sub)       # display subtraction\n",
    "print('multiply =',mul)           # display multiplication\n",
    "print('divison = ',div)           # display division\n",
    "print('power = ',pow1)            # display to the power of"
   ]
  },
  {
   "cell_type": "code",
   "execution_count": 4,
   "metadata": {},
   "outputs": [
    {
     "name": "stdout",
     "output_type": "stream",
     "text": [
      "enter number 1 :66\n",
      "enter number 2 :44\n",
      "the sum of the 2 numbres is : 110\n"
     ]
    }
   ],
   "source": [
    "# input\n",
    "\n",
    "num1 = int(input('enter number 1 :'))                     # takes input 1 string from the user and converts it into interger\n",
    "num2 = int(input('enter number 2 :'))                     # takes input 2 string from the user and converts it into interger\n",
    "\n",
    "sum_of_numbers = num1 + num2                              # addition of num 1 and num 2\n",
    "\n",
    "print('the sum of the 2 numbres is :',sum_of_numbers)     # display the sum of numbers  "
   ]
  },
  {
   "cell_type": "code",
   "execution_count": 5,
   "metadata": {},
   "outputs": [
    {
     "name": "stdout",
     "output_type": "stream",
     "text": [
      "this is a function\n",
      "\n",
      "the 1st number is : 66\n",
      "the 2nd number is : 44\n",
      "the sum of the 2 numbers are : 110\n"
     ]
    }
   ],
   "source": [
    "# functions\n",
    "\n",
    "def example_function():                                 # define a function name\n",
    "    print('this is a function\\n')                         # display a string\n",
    "\n",
    "example_function()                                      # calling the function\n",
    "\n",
    "# example 2\n",
    "\n",
    "def addition_function(num1,num2):                       # defining a function with two variables num1 and num2 as input   \n",
    "    answer = num1 + num2                                # addition of the two numbers num1 and num2\n",
    "    print('the 1st number is :',num1)                   # display num 1\n",
    "    print('the 2nd number is :',num2)                   # display num 2\n",
    "    print('the sum of the 2 numbers are :',answer)      # display the answer\n",
    "    \n",
    "addition_function(66,44)                                # calloing the addition function and providing it with two integers they can also be called\n"
   ]
  },
  {
   "cell_type": "code",
   "execution_count": 6,
   "metadata": {},
   "outputs": [
    {
     "name": "stdout",
     "output_type": "stream",
     "text": [
      "funny\n",
      "joy ride  = local x\n",
      "\n",
      "coaster  = global x\n",
      "\n"
     ]
    }
   ],
   "source": [
    "# global and local variables\n",
    "\n",
    "# global variable\n",
    "def func():                                         # defining a function func\n",
    "    print(s)                                        # displaying s,this function has no local variable, hence it assumes/ takes the global value\n",
    "\n",
    "s = \"funny\"                                         # global variable, s is assigned to a string funny\n",
    "func()                                              # function func is called\n",
    "\n",
    "# local variable\n",
    "def lo_func():                                      # defining a function lo_func\n",
    "    x = \"joy ride\"                                  # here x is a local variable with assigned string \"joy ride\" \n",
    "    print(x,' = local x\\n')                         # displaying x\n",
    "\n",
    "x = \"coaster\"                                       # here x outside the function acts as a global variable ,assigning x with string \"coaster\"\n",
    "\n",
    "lo_func()                                           # call function lo_func\n",
    "print(x,' = global x\\n')                            # displaying x "
   ]
  },
  {
   "cell_type": "code",
   "execution_count": 7,
   "metadata": {},
   "outputs": [
    {
     "name": "stdout",
     "output_type": "stream",
     "text": [
      "15\n",
      "10\n",
      "30\n",
      "2\n",
      "\n",
      "\n",
      "\n",
      "0\n",
      "1\n",
      "2\n",
      "3\n",
      "4\n"
     ]
    }
   ],
   "source": [
    "# for loop\n",
    "\n",
    "example_array = [15,10,30,2]                        # example array contains 4 elements \n",
    "\n",
    "for example_numbers in example_array:               # defining for loop where example numbers \n",
    "                                                    # are given the place of example array \n",
    "                                                    # (eg. example_numbers[0] = example_array[0] i.e '15',[1] = '10',[2] = 30 and so on \n",
    "    print(example_numbers)                          # displaying example array itereated through example numbers\n",
    "    \n",
    "print('\\n\\n')                                       # adding a line to differentiate next display  \n",
    "# iteration\n",
    "for x in range(5):                                  # specifing a range default is '0' hence,\n",
    "                                                    # range(0,5) is the same as range(5),\n",
    "                                                    # can also be use to sepicify a specific range too,\n",
    "                                                    # eg. range(3,6) to display numbers from 3 to (till)6\n",
    "    print(x)                                        # display the iterated value of x"
   ]
  },
  {
   "cell_type": "code",
   "execution_count": 8,
   "metadata": {},
   "outputs": [
    {
     "name": "stdout",
     "output_type": "stream",
     "text": [
      "1\n",
      "2\n",
      "3\n",
      "4\n"
     ]
    }
   ],
   "source": [
    "# while loop\n",
    "\n",
    "# finite loop \n",
    "number = 1                             # assign a variable to a specific number\n",
    "while number < 5:                      # settting a conditional statement, the loop exsists only till the condition is met\n",
    "                                       # once the conditions are not met/not valid the loop breaks out   \n",
    "    print(number)                      # display the value of number\n",
    "    number += 1                        # every time the loop passes the value of number gets an incrase by 1 \n",
    "\n",
    "# infinite loop (good for repetetive tasks) ( e careful while using an infinte loop )\n",
    "#while True:                            # assigning a loop to an everlasting satisfing condiiton the loop never breaks out\n",
    "#    print('too fast to read')          # display the string forever"
   ]
  },
  {
   "cell_type": "code",
   "execution_count": 13,
   "metadata": {},
   "outputs": [
    {
     "name": "stdout",
     "output_type": "stream",
     "text": [
      "b is greater than a\n",
      "\n",
      "z is the gratest\n",
      "\n",
      "a and x are not the same value\n",
      "\n",
      "z > (a+b)\n"
     ]
    }
   ],
   "source": [
    "# if statement\n",
    "\n",
    "# assign numbers random values\n",
    "a = 5\n",
    "b = 9\n",
    "c = 3\n",
    "x = 4\n",
    "y = 7\n",
    "z = 100\n",
    "\n",
    "# conditional checking\n",
    "if b > a:                                            # checks if the statement is true by comparing the two variables        \n",
    "    print('b is greater than a\\n')                   # displays the results\n",
    "\n",
    "if z > a + b + c + x + y:                            # can be used to check complex variables (100) > (5+9+3+4+7) ??\n",
    "    print('z is the gratest\\n')                      # displays the result\n",
    "\n",
    "if a == x:                                           # check if the variables are similar (5 == 4) ?? similarly \n",
    "                                                     # '!=' = 'not equal to'\n",
    "    print('a and x are same value\\n')                # display the result \n",
    "else:                                                # if conditions are not met \n",
    "    print('a and x are not the same value\\n')        # display the result\n",
    "\n",
    "# ifelse\n",
    "if x > b:                                            # check for a condition (4 > 9) ?? if not move to the next condtion\n",
    "    print('x > b')                                   # display result\n",
    "elif x == a:                                         # check the if condition is satisfied (4 = 5) ?? else if (if not ) move to the next condition\n",
    "    print('x = a')                                   # display the result\n",
    "elif z > a+b:                                        # check the elif(else if ) condition ( 100 > (5+9)) ?? if condition is met display the result or move to next condition \n",
    "    print('z > (a+b)')                               # display the result ===> condition staisfied\n",
    "elif z != a:                                         # check if the condition is staisfied (100 != 5) ??\n",
    "    print('z != a')                                  # display result ( this is not displayed since the loop is already exited)"
   ]
  },
  {
   "cell_type": "code",
   "execution_count": null,
   "metadata": {
    "collapsed": true
   },
   "outputs": [],
   "source": []
  }
 ],
 "metadata": {
  "kernelspec": {
   "display_name": "Python 3",
   "language": "python",
   "name": "python3"
  },
  "language_info": {
   "codemirror_mode": {
    "name": "ipython",
    "version": 3
   },
   "file_extension": ".py",
   "mimetype": "text/x-python",
   "name": "python",
   "nbconvert_exporter": "python",
   "pygments_lexer": "ipython3",
   "version": "3.5.3rc1"
  }
 },
 "nbformat": 4,
 "nbformat_minor": 2
}
