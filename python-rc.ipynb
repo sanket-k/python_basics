{
 "cells": [
  {
   "cell_type": "code",
   "execution_count": 1,
   "metadata": {},
   "outputs": [
    {
     "name": "stdout",
     "output_type": "stream",
     "text": [
      "22\n",
      "\n",
      "hello world !!!\n",
      "\n",
      "Force\n",
      "\n",
      "The force\n",
      "\n",
      "they're gone\n",
      "they're gone\n",
      "\n",
      "10 ton\n",
      "9\n",
      "8.3\n",
      "\n",
      "\n",
      "66  = placeholder\n",
      "\n",
      "this is a string  = placeholder_2\n"
     ]
    }
   ],
   "source": [
    "# getting started with python \n",
    "\n",
    "# printing a variable \n",
    "print(22)                                      # changes made from python 2 to python 3 (use '()' to print)\n",
    "\n",
    "# printing a string\n",
    "print('\\nhello world !!!')                     # prints a string '\\n' adds a new line before printing\n",
    "\n",
    "# syntax\n",
    "print('\\nForce')                               # print function can used with '' to include the content\n",
    "print(\"\\nThe force\")                           # print function can also be used with \"\" to include the content \n",
    "\n",
    "# using \"'s\"\n",
    "print('\\nthey\\'re gone')                       # gives an error,hence use '\\','\\' iigoners the variable in front of it\n",
    "print(\"they're gone\\n\")                        # use \"'\" to avoid errors\n",
    "\n",
    "# using two different data types\n",
    "print(str(10)+' ton')                          # concatenate two different data types by conversion, by converting 10 into a string            \n",
    "\n",
    "print(int('5') + 4)                            # converts a string into a variable\n",
    "\n",
    "print(float('5.3')+3)                          # gets converted into a float variable\n",
    "\n",
    "# variables\n",
    "print('\\n')                                    # add an extra line b/w display lines  \n",
    "variable_holder = 22 + 44                      # holds the value of 22 + 44\n",
    "print(variable_holder,' = placeholder\\n')      # prints the held variable (22 + 44) \n",
    "\n",
    "variable_holder_2 = \"this is a string\"         # now variable_holder_2 holds the value of a string\n",
    "print(variable_holder_2,' = placeholder_2')    # displays the held/current variable in variable_holder_2"
   ]
  },
  {
   "cell_type": "code",
   "execution_count": 2,
   "metadata": {
    "scrolled": true
   },
   "outputs": [
    {
     "name": "stdout",
     "output_type": "stream",
     "text": [
      "addition =  6\n",
      "subtraction =  7\n",
      "multiply = 9\n",
      "divison =  2.0\n",
      "power =  256\n"
     ]
    }
   ],
   "source": [
    "# math operations\n",
    "\n",
    "add = 1 + 5                       # add variables\n",
    "sub = 8 - 1                       # subtract variables\n",
    "mul = 3 * 3                       # multiply variables\n",
    "div = 4 / 2                       # divide variables\n",
    "pow1 = 4 ** 4                     # variable to the power of x^x\n",
    "\n",
    "print('addition = ',add)          # display addition\n",
    "print('subtraction = ',sub)       # display subtraction\n",
    "print('multiply =',mul)           # display multiplication\n",
    "print('divison = ',div)           # display division\n",
    "print('power = ',pow1)            # display to the power of"
   ]
  },
  {
   "cell_type": "code",
   "execution_count": 5,
   "metadata": {},
   "outputs": [
    {
     "name": "stdout",
     "output_type": "stream",
     "text": [
      "enter number 1 :44\n",
      "enter number 2 :66\n",
      "the sum of the 2 numbres is : 110\n"
     ]
    }
   ],
   "source": [
    "# input\n",
    "\n",
    "num1 = int(input('enter number 1 :'))                     # takes input 1 string from the user and converts it into interger\n",
    "num2 = int(input('enter number 2 :'))                     # takes input 2 string from the user and converts it into interger\n",
    "\n",
    "sum_of_numbers = num1 + num2                              # addition of num 1 and num 2\n",
    "\n",
    "print('the sum of the 2 numbres is :',sum_of_numbers)     # display the sum of numbers  "
   ]
  },
  {
   "cell_type": "code",
   "execution_count": 8,
   "metadata": {},
   "outputs": [
    {
     "name": "stdout",
     "output_type": "stream",
     "text": [
      "this is a function\n",
      "\n",
      "the 1st number is : 66\n",
      "the 2nd number is : 44\n",
      "the sum of the 2 numbers are : 110\n"
     ]
    }
   ],
   "source": [
    "# functions\n",
    "\n",
    "def example_function():                                 # define a function name\n",
    "    print('this is a function\\n')                         # display a string\n",
    "\n",
    "example_function()                                      # calling the function\n",
    "\n",
    "# example 2\n",
    "\n",
    "def addition_function(num1,num2):                       # defining a function with two variables num1 and num2 as input   \n",
    "    answer = num1 + num2                                # addition of the two numbers num1 and num2\n",
    "    print('the 1st number is :',num1)                   # display num 1\n",
    "    print('the 2nd number is :',num2)                   # display num 2\n",
    "    print('the sum of the 2 numbers are :',answer)      # display the answer\n",
    "    \n",
    "addition_function(66,44)                                # calloing the addition function and providing it with two integers they can also be called\n"
   ]
  },
  {
   "cell_type": "code",
   "execution_count": null,
   "metadata": {
    "collapsed": true
   },
   "outputs": [],
   "source": []
  }
 ],
 "metadata": {
  "kernelspec": {
   "display_name": "Python 3",
   "language": "python",
   "name": "python3"
  },
  "language_info": {
   "codemirror_mode": {
    "name": "ipython",
    "version": 3
   },
   "file_extension": ".py",
   "mimetype": "text/x-python",
   "name": "python",
   "nbconvert_exporter": "python",
   "pygments_lexer": "ipython3",
   "version": "3.5.3rc1"
  }
 },
 "nbformat": 4,
 "nbformat_minor": 2
}
