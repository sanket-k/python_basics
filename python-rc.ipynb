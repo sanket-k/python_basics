{
 "cells": [
  {
   "cell_type": "code",
   "execution_count": 14,
   "metadata": {},
   "outputs": [
    {
     "name": "stdout",
     "output_type": "stream",
     "text": [
      "22\n",
      "\n",
      "hello world !!!\n",
      "\n",
      "Force\n",
      "\n",
      "The force\n",
      "\n",
      "they're gone\n",
      "they're gone\n",
      "\n",
      "10 ton\n",
      "9\n",
      "8.3\n",
      "\n",
      "\n",
      "66  = placeholder\n",
      "\n",
      "this is a string  = placeholder_2\n"
     ]
    }
   ],
   "source": [
    "# getting started with python \n",
    "\n",
    "# printing a variable \n",
    "print(22)                                      # changes made from python 2 to python 3 (use '()' to print)\n",
    "\n",
    "# printing a string\n",
    "print('\\nhello world !!!')                     # prints a string '\\n' adds a new line before printing\n",
    "\n",
    "# syntax\n",
    "print('\\nForce')                               # print function can used with '' to include the content\n",
    "print(\"\\nThe force\")                           # print function can also be used with \"\" to include the content \n",
    "\n",
    "# using \"'s\"\n",
    "print('\\nthey\\'re gone')                       # gives an error,hence use '\\','\\' iigoners the variable in front of it\n",
    "print(\"they're gone\\n\")                        # use \"'\" to avoid errors\n",
    "\n",
    "# using two different data types\n",
    "print(str(10)+' ton')                          # concatenate two different data types by conversion, by converting 10 into a string            \n",
    "\n",
    "print(int('5') + 4)                            # converts a string into a variable\n",
    "\n",
    "print(float('5.3')+3)                          # gets converted into a float variable\n",
    "\n",
    "# variables\n",
    "print('\\n')                                    # add an extra line b/w display lines  \n",
    "variable_holder = 22 + 44                      # holds the value of 22 + 44\n",
    "print(variable_holder,' = placeholder\\n')      # prints the held variable (22 + 44) \n",
    "\n",
    "variable_holder_2 = \"this is a string\"         # now variable_holder_2 holds the value of a string\n",
    "print(variable_holder_2,' = placeholder_2')    # displays the held/current variable in variable_holder_2"
   ]
  },
  {
   "cell_type": "code",
   "execution_count": null,
   "metadata": {
    "collapsed": true
   },
   "outputs": [],
   "source": []
  }
 ],
 "metadata": {
  "kernelspec": {
   "display_name": "Python 3",
   "language": "python",
   "name": "python3"
  },
  "language_info": {
   "codemirror_mode": {
    "name": "ipython",
    "version": 3
   },
   "file_extension": ".py",
   "mimetype": "text/x-python",
   "name": "python",
   "nbconvert_exporter": "python",
   "pygments_lexer": "ipython3",
   "version": "3.5.3rc1"
  }
 },
 "nbformat": 4,
 "nbformat_minor": 2
}
